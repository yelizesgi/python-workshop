{
  "cells": [
    {
      "cell_type": "markdown",
      "metadata": {
        "id": "5B0bgMFqWTYr"
      },
      "source": [
        "<p>Given the code below, use the correct function on line 3 in order to convert <strong>num1 </strong>from integer to float.</p>"
      ]
    },
    {
      "cell_type": "code",
      "execution_count": 1,
      "metadata": {
        "id": "rnzMlkZFWTYs",
        "colab": {
          "base_uri": "https://localhost:8080/"
        },
        "outputId": "efcb9cf8-6de4-4d6c-da32-1cca41e93f40"
      },
      "outputs": [
        {
          "output_type": "stream",
          "name": "stdout",
          "text": [
            "<class 'float'>\n"
          ]
        }
      ],
      "source": [
        "num1 = 25\n",
        "\n",
        "num2 = float(num1)\n",
        "\n",
        "print(type(num2))"
      ]
    },
    {
      "cell_type": "markdown",
      "metadata": {
        "id": "LSVBWMiuWTYt"
      },
      "source": [
        "<p>Given the code below, use the correct function on line 3 in order to convert <strong>num1 </strong>from float to integer.</p>"
      ]
    },
    {
      "cell_type": "code",
      "execution_count": 2,
      "metadata": {
        "id": "AvgRXHXfWTYu",
        "colab": {
          "base_uri": "https://localhost:8080/"
        },
        "outputId": "f71f8f75-4714-4eb2-c72e-1756a8a4d3a6"
      },
      "outputs": [
        {
          "output_type": "stream",
          "name": "stdout",
          "text": [
            "<class 'int'>\n"
          ]
        }
      ],
      "source": [
        "num1 = 13.67\n",
        "\n",
        "num2 = int(num1)\n",
        "\n",
        "print(type(num2))"
      ]
    },
    {
      "cell_type": "markdown",
      "metadata": {
        "id": "VmSTAdl7WTYu"
      },
      "source": [
        "<p>Given the code below, use the correct math operator in between <strong>num1 </strong>and <strong>num2 </strong>on line 4 in order to obtain the result shown.</p>"
      ]
    },
    {
      "cell_type": "code",
      "execution_count": 3,
      "metadata": {
        "id": "-2U25PzrWTYu",
        "colab": {
          "base_uri": "https://localhost:8080/"
        },
        "outputId": "88194d29-f7d4-4948-9f9c-4527ec00185b"
      },
      "outputs": [
        {
          "output_type": "stream",
          "name": "stdout",
          "text": [
            "True\n"
          ]
        }
      ],
      "source": [
        "num1 = 25\n",
        "num2 = 8\n",
        "\n",
        "num3 = num1 % num2\n",
        "\n",
        "print(num3 == 1) #result is True"
      ]
    },
    {
      "cell_type": "markdown",
      "metadata": {
        "id": "QQraQniRWTYu"
      },
      "source": [
        "<p>Given the code below, use the correct math operator in between <strong>num1 </strong>and <strong>num2 </strong>on line 4 in order to obtain the result shown.</p>"
      ]
    },
    {
      "cell_type": "code",
      "execution_count": 4,
      "metadata": {
        "id": "4M8GFABWWTYv",
        "colab": {
          "base_uri": "https://localhost:8080/"
        },
        "outputId": "9c1713bf-6559-4e81-9e74-34e27cb14ce1"
      },
      "outputs": [
        {
          "output_type": "stream",
          "name": "stdout",
          "text": [
            "True\n"
          ]
        }
      ],
      "source": [
        "num1 = 10\n",
        "num2 = 3\n",
        "\n",
        "num3 = num1 ** num2\n",
        "\n",
        "print(num3 == 250 * 4) #result is True"
      ]
    },
    {
      "cell_type": "markdown",
      "metadata": {
        "id": "uy9UEeI2WTYv"
      },
      "source": [
        "<p>Given the code below, use the correct math operator in between <strong>num1 </strong>and <strong>num2 </strong>on line 4 in order to obtain the result shown.</p>"
      ]
    },
    {
      "cell_type": "code",
      "execution_count": 5,
      "metadata": {
        "id": "xlKc4woNWTYv",
        "colab": {
          "base_uri": "https://localhost:8080/"
        },
        "outputId": "8ac8ccdb-fae1-49ec-bd6a-242dc869ae0a"
      },
      "outputs": [
        {
          "output_type": "stream",
          "name": "stdout",
          "text": [
            "True\n"
          ]
        }
      ],
      "source": [
        "num1 = 5\n",
        "num2 = 2\n",
        "\n",
        "num3 = num1 // num2\n",
        "\n",
        "print(num3 == 5 % 3) #result is True"
      ]
    },
    {
      "cell_type": "markdown",
      "metadata": {
        "id": "d0LrwjFvWTYv"
      },
      "source": [
        "<p>Given the code below, use the correct function<strong> </strong>on line 3 in order to obtain the distance between <strong>num1 </strong>and 0.</p>"
      ]
    },
    {
      "cell_type": "code",
      "execution_count": 6,
      "metadata": {
        "id": "y9uMJCg7WTYw",
        "colab": {
          "base_uri": "https://localhost:8080/"
        },
        "outputId": "d775ee7a-0575-41af-f26f-d33250734bca"
      },
      "outputs": [
        {
          "output_type": "stream",
          "name": "stdout",
          "text": [
            "True\n"
          ]
        }
      ],
      "source": [
        "num1 = -11\n",
        "\n",
        "num2 = abs(num1)\n",
        "\n",
        "print(num2 == 11) #should result in True"
      ]
    },
    {
      "cell_type": "markdown",
      "metadata": {
        "id": "4og7lGX3WTYw"
      },
      "source": [
        "<p>Given the code below, use the correct function<strong> </strong>on line 4 in order to raise <strong>num1 </strong>to the power of <strong>num2</strong>.</p>"
      ]
    },
    {
      "cell_type": "code",
      "execution_count": 7,
      "metadata": {
        "id": "jA3r0ncmWTYw",
        "colab": {
          "base_uri": "https://localhost:8080/"
        },
        "outputId": "f422223c-d6d0-439e-e20f-8a42d09cd03f"
      },
      "outputs": [
        {
          "output_type": "stream",
          "name": "stdout",
          "text": [
            "True\n"
          ]
        }
      ],
      "source": [
        "num1 = 10\n",
        "num2 = 5\n",
        "\n",
        "num3 = pow(num1, num2)\n",
        "\n",
        "print(num3 == 100000)"
      ]
    },
    {
      "cell_type": "markdown",
      "metadata": {
        "id": "SyLqcs9ZWTYw"
      },
      "source": [
        "<p>Given the code below, use the correct logical operator in between the two expressions<strong> </strong>on line 1 in order for the final result to be <strong>False</strong>.</p>"
      ]
    },
    {
      "cell_type": "code",
      "execution_count": 8,
      "metadata": {
        "id": "zQsMo8S8WTYx",
        "colab": {
          "base_uri": "https://localhost:8080/"
        },
        "outputId": "fb01ea20-bf07-45d8-d2c9-ab8b6bf53923"
      },
      "outputs": [
        {
          "output_type": "stream",
          "name": "stdout",
          "text": [
            "False\n"
          ]
        }
      ],
      "source": [
        "result = ((25 % 7 + 10 / 2) % 3 == 0) and ((abs(-19) / 2 - 2) > 9)\n",
        "\n",
        "print(result) #should return False"
      ]
    },
    {
      "cell_type": "markdown",
      "metadata": {
        "id": "dYYg3IK9WTYx"
      },
      "source": [
        "<p>Given the code below, use the correct logical operator in between the two expressions<strong> </strong>on line 1 in order for the final result to be <strong>True</strong>.</p>"
      ]
    },
    {
      "cell_type": "code",
      "execution_count": 9,
      "metadata": {
        "id": "86IUB85oWTYx",
        "colab": {
          "base_uri": "https://localhost:8080/"
        },
        "outputId": "ae36b741-dd20-4738-ff0b-f1d917cca735"
      },
      "outputs": [
        {
          "output_type": "stream",
          "name": "stdout",
          "text": [
            "True\n"
          ]
        }
      ],
      "source": [
        "result = (min(pow(2, abs(3)), 9) == 3 ** 2 - 1) or (66 % 20 + 2 > 2 ** 3)\n",
        "\n",
        "print(result) #should return True"
      ]
    },
    {
      "cell_type": "markdown",
      "metadata": {
        "id": "uf32DPS0WTYx"
      },
      "source": [
        "<p>Given the code below, use the correct function on line 1 (for which the argument sits inside the parentheses) in order for the final result to be <strong>False</strong>.</p>"
      ]
    },
    {
      "cell_type": "code",
      "execution_count": 10,
      "metadata": {
        "id": "Hj8s2kcDWTYy",
        "colab": {
          "base_uri": "https://localhost:8080/"
        },
        "outputId": "9fd83255-57da-47fa-b92b-cee195ea8b4b"
      },
      "outputs": [
        {
          "output_type": "stream",
          "name": "stdout",
          "text": [
            "False\n"
          ]
        }
      ],
      "source": [
        "result = bool(150 % (10 ** 2 / 2))\n",
        "\n",
        "print(result) #should return False"
      ]
    }
  ],
  "metadata": {
    "interpreter": {
      "hash": "468f25ad0239460415b7e6b7483d5c8f7213894121f6fb96c4cb6ef93fffe534"
    },
    "kernelspec": {
      "display_name": "Python 3.9.6 64-bit",
      "language": "python",
      "name": "python3"
    },
    "language_info": {
      "codemirror_mode": {
        "name": "ipython",
        "version": 3
      },
      "file_extension": ".py",
      "mimetype": "text/x-python",
      "name": "python",
      "nbconvert_exporter": "python",
      "pygments_lexer": "ipython3",
      "version": "3.9.6"
    },
    "orig_nbformat": 4,
    "colab": {
      "provenance": []
    }
  },
  "nbformat": 4,
  "nbformat_minor": 0
}